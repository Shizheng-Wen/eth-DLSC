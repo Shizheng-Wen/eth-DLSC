{
 "cells": [
  {
   "cell_type": "code",
   "execution_count": 1,
   "id": "0a3abfc3-1b75-4c8a-87bc-efd886c41d71",
   "metadata": {},
   "outputs": [
    {
     "name": "stdout",
     "output_type": "stream",
     "text": [
      "Intel MKL WARNING: Support of Intel(R) Streaming SIMD Extensions 4.2 (Intel(R) SSE4.2) enabled only processors has been deprecated. Intel oneAPI Math Kernel Library 2025.0 will require Intel(R) Advanced Vector Extensions (Intel(R) AVX) instructions.\n",
      "Intel MKL WARNING: Support of Intel(R) Streaming SIMD Extensions 4.2 (Intel(R) SSE4.2) enabled only processors has been deprecated. Intel oneAPI Math Kernel Library 2025.0 will require Intel(R) Advanced Vector Extensions (Intel(R) AVX) instructions.\n"
     ]
    }
   ],
   "source": [
    "import torch"
   ]
  },
  {
   "cell_type": "code",
   "execution_count": 6,
   "id": "f472725e-f52b-4497-a168-105da95c1181",
   "metadata": {},
   "outputs": [],
   "source": [
    "domain_extrema = torch.tensor([[0, 1],  # Time dimension\n",
    "                               [0, 1]])  # Space dimension\n",
    "n_tb = 100"
   ]
  },
  {
   "cell_type": "code",
   "execution_count": 13,
   "id": "06f6da3c-1573-45ef-b552-40ff2a680310",
   "metadata": {},
   "outputs": [],
   "source": [
    "def initial_condition(x):\n",
    "    return torch.full([len(x), 2], 1.0)"
   ]
  },
  {
   "cell_type": "code",
   "execution_count": 14,
   "id": "fb117583-d501-4035-b005-20e901aed452",
   "metadata": {},
   "outputs": [],
   "source": [
    "def convert(tens):\n",
    "    assert (tens.shape[1] == domain_extrema.shape[0])\n",
    "    return tens * (domain_extrema[:, 1] - domain_extrema[:, 0]) + domain_extrema[:, 0]"
   ]
  },
  {
   "cell_type": "code",
   "execution_count": 15,
   "id": "0d250beb-9480-4e0c-93c3-6e890dcca332",
   "metadata": {},
   "outputs": [],
   "source": [
    "soboleng = torch.quasirandom.SobolEngine(dimension=domain_extrema.shape[0])\n",
    "t0 = domain_extrema[0,0]\n",
    "input_tb = convert(soboleng.draw(n_tb))\n",
    "input_tb[:, 0] = torch.full(input_tb[:, 0].shape, t0)\n",
    "output_tb = initial_condition(input_tb[:, 1]).reshape(-1,1)"
   ]
  },
  {
   "cell_type": "code",
   "execution_count": null,
   "id": "9ebf2b5f-fa19-4579-86a0-00b82f055cfa",
   "metadata": {},
   "outputs": [],
   "source": []
  }
 ],
 "metadata": {
  "kernelspec": {
   "display_name": "Python 3 (ipykernel)",
   "language": "python",
   "name": "python3"
  },
  "language_info": {
   "codemirror_mode": {
    "name": "ipython",
    "version": 3
   },
   "file_extension": ".py",
   "mimetype": "text/x-python",
   "name": "python",
   "nbconvert_exporter": "python",
   "pygments_lexer": "ipython3",
   "version": "3.9.0"
  }
 },
 "nbformat": 4,
 "nbformat_minor": 5
}
